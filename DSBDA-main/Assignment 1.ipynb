{
  "nbformat": 4,
  "nbformat_minor": 0,
  "metadata": {
    "colab": {
      "provenance": []
    },
    "kernelspec": {
      "name": "python3",
      "display_name": "Python 3"
    },
    "language_info": {
      "name": "python"
    }
  },
  "cells": [
    {
      "cell_type": "code",
      "execution_count": 7,
      "metadata": {
        "colab": {
          "base_uri": "https://localhost:8080/"
        },
        "id": "gS6N8-PLO_R-",
        "outputId": "1fc9de0e-806c-451e-e721-ad23a8b0885e"
      },
      "outputs": [
        {
          "output_type": "stream",
          "name": "stdout",
          "text": [
            "   sepal length (cm)  sepal width (cm)  petal length (cm)  petal width (cm)  \\\n",
            "0                5.1               3.5                1.4               0.2   \n",
            "1                4.9               3.0                1.4               0.2   \n",
            "2                4.7               3.2                1.3               0.2   \n",
            "3                4.6               3.1                1.5               0.2   \n",
            "4                5.0               3.6                1.4               0.2   \n",
            "\n",
            "   species  \n",
            "0        0  \n",
            "1        0  \n",
            "2        0  \n",
            "3        0  \n",
            "4        0  \n"
          ]
        }
      ],
      "source": [
        "import pandas as pd\n",
        "from sklearn.datasets import load_iris\n",
        "\n",
        "\n",
        "iris = load_iris()\n",
        "\n",
        "df = pd.DataFrame(iris.data, columns=iris.feature_names)\n",
        "\n",
        "df['species'] = iris.target\n",
        "\n",
        "print(df.head())\n"
      ]
    },
    {
      "cell_type": "code",
      "source": [
        "\n",
        "missing_values = df.isnull().sum()\n",
        "print(\"\\nMissing Values per Column:\")\n",
        "print(missing_values)\n",
        "\n",
        "print(\"\\nInitial Statistics:\")\n",
        "print(df.describe())\n",
        "\n",
        "print(\"\\nDataset Dimensions:\", df.shape)\n"
      ],
      "metadata": {
        "colab": {
          "base_uri": "https://localhost:8080/"
        },
        "id": "jBYpc6w8QqOc",
        "outputId": "d5961e88-2193-4b1b-e4ec-1c37884d8650"
      },
      "execution_count": 4,
      "outputs": [
        {
          "output_type": "execute_result",
          "data": {
            "text/plain": [
              "(Id               0\n",
              " SepalLengthCm    0\n",
              " SepalWidthCm     0\n",
              " PetalLengthCm    0\n",
              " PetalWidthCm     0\n",
              " Species          0\n",
              " dtype: int64,\n",
              " Id                 int64\n",
              " SepalLengthCm    float64\n",
              " SepalWidthCm     float64\n",
              " PetalLengthCm    float64\n",
              " PetalWidthCm     float64\n",
              " Species           object\n",
              " dtype: object,\n",
              "                Id  SepalLengthCm  SepalWidthCm  PetalLengthCm  PetalWidthCm\n",
              " count  150.000000     150.000000    150.000000     150.000000    150.000000\n",
              " mean    75.500000       5.843333      3.054000       3.758667      1.198667\n",
              " std     43.445368       0.828066      0.433594       1.764420      0.763161\n",
              " min      1.000000       4.300000      2.000000       1.000000      0.100000\n",
              " 25%     38.250000       5.100000      2.800000       1.600000      0.300000\n",
              " 50%     75.500000       5.800000      3.000000       4.350000      1.300000\n",
              " 75%    112.750000       6.400000      3.300000       5.100000      1.800000\n",
              " max    150.000000       7.900000      4.400000       6.900000      2.500000)"
            ]
          },
          "metadata": {},
          "execution_count": 4
        }
      ]
    },
    {
      "cell_type": "code",
      "source": [
        "print(\"\\nData Types of the Columns:\")\n",
        "print(df.dtypes)\n",
        "\n",
        "df['species'] = df['species'].astype('category')\n",
        "\n",
        "print(\"\\nUpdated Data Types:\")\n",
        "print(df.dtypes)\n"
      ],
      "metadata": {
        "colab": {
          "base_uri": "https://localhost:8080/"
        },
        "id": "Tv7oW59_Qv_c",
        "outputId": "a7abaf6e-0308-4bb6-efad-cbcece0a4185"
      },
      "execution_count": 12,
      "outputs": [
        {
          "output_type": "stream",
          "name": "stdout",
          "text": [
            "\n",
            "Data Types of the Columns:\n",
            "sepal length (cm)    float64\n",
            "sepal width (cm)     float64\n",
            "petal length (cm)    float64\n",
            "petal width (cm)     float64\n",
            "species                int64\n",
            "dtype: object\n",
            "\n",
            "Updated Data Types:\n",
            "sepal length (cm)     float64\n",
            "sepal width (cm)      float64\n",
            "petal length (cm)     float64\n",
            "petal width (cm)      float64\n",
            "species              category\n",
            "dtype: object\n"
          ]
        }
      ]
    },
    {
      "cell_type": "code",
      "source": [
        "from sklearn.preprocessing import MinMaxScaler\n",
        "\n",
        "scaler = MinMaxScaler()\n",
        "\n",
        "df[df.columns[:-1]] = scaler.fit_transform(df[df.columns[:-1]])\n",
        "\n",
        "print(\"\\nNormalized DataFrame:\")\n",
        "print(df.head())\n"
      ],
      "metadata": {
        "colab": {
          "base_uri": "https://localhost:8080/"
        },
        "id": "j0jMPgToQ6_W",
        "outputId": "ffdc21b2-9a95-45e7-a4eb-52e0bb515c80"
      },
      "execution_count": 11,
      "outputs": [
        {
          "output_type": "stream",
          "name": "stdout",
          "text": [
            "\n",
            "Normalized DataFrame:\n",
            "   sepal length (cm)  sepal width (cm)  petal length (cm)  petal width (cm)  \\\n",
            "0           0.222222          0.625000           0.067797          0.041667   \n",
            "1           0.166667          0.416667           0.067797          0.041667   \n",
            "2           0.111111          0.500000           0.050847          0.041667   \n",
            "3           0.083333          0.458333           0.084746          0.041667   \n",
            "4           0.194444          0.666667           0.067797          0.041667   \n",
            "\n",
            "   species  \n",
            "0        0  \n",
            "1        0  \n",
            "2        0  \n",
            "3        0  \n",
            "4        0  \n"
          ]
        }
      ]
    },
    {
      "cell_type": "code",
      "source": [
        "from sklearn.preprocessing import LabelEncoder\n",
        "\n",
        "le = LabelEncoder()\n",
        "\n",
        "df['species'] = le.fit_transform(df['species'])\n",
        "\n",
        "print(\"\\nDataFrame after Label Encoding:\")\n",
        "print(df.head())\n"
      ],
      "metadata": {
        "colab": {
          "base_uri": "https://localhost:8080/"
        },
        "id": "U2pc66SJTC7E",
        "outputId": "77dcb88c-3f21-4c9c-abf1-9a6424bc016b"
      },
      "execution_count": 10,
      "outputs": [
        {
          "output_type": "stream",
          "name": "stdout",
          "text": [
            "\n",
            "DataFrame after Label Encoding:\n",
            "   sepal length (cm)  sepal width (cm)  petal length (cm)  petal width (cm)  \\\n",
            "0                5.1               3.5                1.4               0.2   \n",
            "1                4.9               3.0                1.4               0.2   \n",
            "2                4.7               3.2                1.3               0.2   \n",
            "3                4.6               3.1                1.5               0.2   \n",
            "4                5.0               3.6                1.4               0.2   \n",
            "\n",
            "   species  \n",
            "0        0  \n",
            "1        0  \n",
            "2        0  \n",
            "3        0  \n",
            "4        0  \n"
          ]
        }
      ]
    },
    {
      "cell_type": "code",
      "source": [
        "print(\"Display the first 5 rows of the dataset\")\n",
        "print(df.head(n=5))\n",
        "\n",
        "print(\"Display the last 5 rows of the dataset\")\n",
        "print(df.tail(n=5))\n",
        "\n",
        "print(\"Display the index of the dataset\")\n",
        "print(df.index)\n",
        "\n",
        "print(\"Display the column names of the dataset\")\n",
        "print(df.columns)\n"
      ],
      "metadata": {
        "colab": {
          "base_uri": "https://localhost:8080/"
        },
        "id": "iangSdpgTF_c",
        "outputId": "407be5b4-7a4c-4885-b436-3fc56b3f5925"
      },
      "execution_count": 9,
      "outputs": [
        {
          "output_type": "stream",
          "name": "stdout",
          "text": [
            "Display the first 5 rows of the dataset\n",
            "   sepal length (cm)  sepal width (cm)  petal length (cm)  petal width (cm)  \\\n",
            "0                5.1               3.5                1.4               0.2   \n",
            "1                4.9               3.0                1.4               0.2   \n",
            "2                4.7               3.2                1.3               0.2   \n",
            "3                4.6               3.1                1.5               0.2   \n",
            "4                5.0               3.6                1.4               0.2   \n",
            "\n",
            "   species  \n",
            "0        0  \n",
            "1        0  \n",
            "2        0  \n",
            "3        0  \n",
            "4        0  \n",
            "Display the last 5 rows of the dataset\n",
            "     sepal length (cm)  sepal width (cm)  petal length (cm)  petal width (cm)  \\\n",
            "145                6.7               3.0                5.2               2.3   \n",
            "146                6.3               2.5                5.0               1.9   \n",
            "147                6.5               3.0                5.2               2.0   \n",
            "148                6.2               3.4                5.4               2.3   \n",
            "149                5.9               3.0                5.1               1.8   \n",
            "\n",
            "     species  \n",
            "145        2  \n",
            "146        2  \n",
            "147        2  \n",
            "148        2  \n",
            "149        2  \n",
            "Display the index of the dataset\n",
            "RangeIndex(start=0, stop=150, step=1)\n",
            "Display the column names of the dataset\n",
            "Index(['sepal length (cm)', 'sepal width (cm)', 'petal length (cm)',\n",
            "       'petal width (cm)', 'species'],\n",
            "      dtype='object')\n"
          ]
        }
      ]
    }
  ]
}