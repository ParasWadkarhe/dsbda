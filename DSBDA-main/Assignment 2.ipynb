{
  "nbformat": 4,
  "nbformat_minor": 0,
  "metadata": {
    "colab": {
      "provenance": []
    },
    "kernelspec": {
      "name": "python3",
      "display_name": "Python 3"
    },
    "language_info": {
      "name": "python"
    }
  },
  "cells": [
    {
      "cell_type": "code",
      "execution_count": 1,
      "metadata": {
        "colab": {
          "base_uri": "https://localhost:8080/"
        },
        "id": "FV_bEFsaUU6p",
        "outputId": "1c4cdd4d-1e29-4e85-f059-51a56cb879b7"
      },
      "outputs": [
        {
          "output_type": "stream",
          "name": "stdout",
          "text": [
            "Missing Values per Column:\n",
            "Gender                    0\n",
            "Math_Score                1\n",
            "Reading_Score             1\n",
            "Writing_Score             2\n",
            "Placement_Score           1\n",
            "Club_Join_Date            0\n",
            "placement offer count     0\n",
            "dtype: int64\n",
            "\n",
            "Dataset after Handling Missing Values:\n",
            "   Gender  Math_Score  Reading_Score  Writing_Score  Placement_Score  \\\n",
            "0  female        69.0           85.0           62.0             99.0   \n",
            "1   male         62.0           91.0           60.0             65.0   \n",
            "2   male         69.0           79.0           99.0             87.0   \n",
            "3  female        55.0           84.0           94.0             85.0   \n",
            "4  female        88.0           84.0           64.0             76.0   \n",
            "\n",
            "   Club_Join_Date  placement offer count   \n",
            "0            2018                       3  \n",
            "1            2019                       1  \n",
            "2            2021                       3  \n",
            "3            2021                       3  \n",
            "4            2020                       2  \n"
          ]
        }
      ],
      "source": [
        "import pandas as pd\n",
        "import numpy as np\n",
        "\n",
        "df = pd.read_csv('/content/StudentPerformance.csv')\n",
        "\n",
        "missing_values = df.isnull().sum()\n",
        "print(\"Missing Values per Column:\")\n",
        "print(missing_values)\n",
        "\n",
        "df['Math_Score'] = df['Math_Score'].fillna(df['Math_Score'].mean())\n",
        "df['Reading_Score'] = df['Reading_Score'].fillna(df['Reading_Score'].mean())\n",
        "df['Writing_Score'] = df['Writing_Score'].fillna(df['Writing_Score'].mean())\n",
        "df['Placement_Score'] = df['Placement_Score'].fillna(df['Placement_Score'].mean())\n",
        "\n",
        "print(\"\\nDataset after Handling Missing Values:\")\n",
        "print(df.head())\n"
      ]
    },
    {
      "cell_type": "code",
      "source": [
        "missing_values = df.isnull().sum()\n",
        "print(\"Missing Values per Column:\")\n",
        "print(missing_values)\n",
        "\n",
        "df['Math_Score'] = df['Math_Score'].fillna(df['Math_Score'].mean())\n",
        "df['Reading_Score'] = df['Reading_Score'].fillna(df['Reading_Score'].median())\n",
        "df['Writing_Score'] = df['Writing_Score'].fillna(df['Writing_Score'].std())\n",
        "df['Placement_Score'] = df['Placement_Score'].fillna(df['Placement_Score'].min())\n",
        "\n",
        "df.replace(to_replace=np.nan, value=-99, inplace=True)\n",
        "\n",
        "df.dropna(how='all', inplace=True)\n",
        "\n",
        "print(\"\\nDataset after Handling Missing Values with Various Methods:\")\n",
        "print(df.head())\n"
      ],
      "metadata": {
        "colab": {
          "base_uri": "https://localhost:8080/"
        },
        "id": "pquAkUBUVdVJ",
        "outputId": "201e0f8b-9ac8-49bb-b899-70979f15c0bb"
      },
      "execution_count": 4,
      "outputs": [
        {
          "output_type": "stream",
          "name": "stdout",
          "text": [
            "Missing Values per Column:\n",
            "Gender                    0\n",
            "Math_Score                0\n",
            "Reading_Score             0\n",
            "Writing_Score             0\n",
            "Placement_Score           0\n",
            "Club_Join_Date            0\n",
            "placement offer count     0\n",
            "Duration                  0\n",
            "Log_Math_Score            0\n",
            "dtype: int64\n",
            "\n",
            "Dataset after Handling Missing Values with Various Methods:\n",
            "   Gender  Math_Score  Reading_Score  Writing_Score  Placement_Score  \\\n",
            "0  female        69.0           85.0           62.0             99.0   \n",
            "1   male         62.0           91.0           60.0             65.0   \n",
            "2   male         69.0           79.0           99.0             87.0   \n",
            "3  female        55.0           84.0           94.0             85.0   \n",
            "4  female        88.0           84.0           64.0             76.0   \n",
            "\n",
            "   Club_Join_Date  placement offer count   Duration  Log_Math_Score  \n",
            "0            2018                       3         7        1.838849  \n",
            "1            2019                       1         6        1.792392  \n",
            "2            2021                       3         4        1.838849  \n",
            "3            2021                       3         4        1.740363  \n",
            "4            2020                       2         5        1.944483  \n"
          ]
        }
      ]
    },
    {
      "cell_type": "code",
      "source": [
        "import matplotlib.pyplot as plt\n",
        "import numpy as np\n",
        "\n",
        "df[['Math_Score', 'Reading_Score', 'Writing_Score', 'Placement_Score']].boxplot()\n",
        "plt.show()\n",
        "\n",
        "z_scores = np.abs((df['Math_Score'] - df['Math_Score'].mean()) / df['Math_Score'].std())\n",
        "outliers = df[z_scores > 3]\n",
        "\n",
        "print(\"Outliers in Math_Score:\")\n",
        "print(outliers)\n",
        "\n",
        "df = df[z_scores <= 3]\n",
        "\n",
        "print(\"\\nDataset after Removing Outliers:\")\n",
        "print(df.head())\n"
      ],
      "metadata": {
        "colab": {
          "base_uri": "https://localhost:8080/",
          "height": 760
        },
        "id": "Ns4INWGUVBR3",
        "outputId": "9bc36165-1a80-46c7-d6e0-2b0de0e736c2"
      },
      "execution_count": 2,
      "outputs": [
        {
          "output_type": "display_data",
          "data": {
            "text/plain": [
              "<Figure size 640x480 with 1 Axes>"
            ],
            "image/png": "[encoded data removed]"
          },
          "metadata": {}
        },
        {
          "output_type": "stream",
          "name": "stdout",
          "text": [
            "Outliers in Math_Score:\n",
            "Empty DataFrame\n",
            "Columns: [Gender, Math_Score, Reading_Score, Writing_Score, Placement_Score, Club_Join_Date, placement offer count ]\n",
            "Index: []\n",
            "\n",
            "Dataset after Removing Outliers:\n",
            "   Gender  Math_Score  Reading_Score  Writing_Score  Placement_Score  \\\n",
            "0  female        69.0           85.0           62.0             99.0   \n",
            "1   male         62.0           91.0           60.0             65.0   \n",
            "2   male         69.0           79.0           99.0             87.0   \n",
            "3  female        55.0           84.0           94.0             85.0   \n",
            "4  female        88.0           84.0           64.0             76.0   \n",
            "\n",
            "   Club_Join_Date  placement offer count   \n",
            "0            2018                       3  \n",
            "1            2019                       1  \n",
            "2            2021                       3  \n",
            "3            2021                       3  \n",
            "4            2020                       2  \n"
          ]
        }
      ]
    },
    {
      "cell_type": "code",
      "source": [
        "current_year = 2025\n",
        "df['Duration'] = current_year - df['Club_Join_Date']\n",
        "\n",
        "df['Log_Math_Score'] = np.log10(df['Math_Score'])\n",
        "\n",
        "print(\"\\nDataset after Data Transformation:\")\n",
        "print(df[['Club_Join_Date', 'Duration', 'Math_Score', 'Log_Math_Score']].head())\n"
      ],
      "metadata": {
        "colab": {
          "base_uri": "https://localhost:8080/"
        },
        "id": "W-i_UplOVGmE",
        "outputId": "8c1d26aa-4011-4858-c8e2-bcf8424f938d"
      },
      "execution_count": 3,
      "outputs": [
        {
          "output_type": "stream",
          "name": "stdout",
          "text": [
            "\n",
            "Dataset after Data Transformation:\n",
            "   Club_Join_Date  Duration  Math_Score  Log_Math_Score\n",
            "0            2018         7        69.0        1.838849\n",
            "1            2019         6        62.0        1.792392\n",
            "2            2021         4        69.0        1.838849\n",
            "3            2021         4        55.0        1.740363\n",
            "4            2020         5        88.0        1.944483\n"
          ]
        }
      ]
    }
  ]
}