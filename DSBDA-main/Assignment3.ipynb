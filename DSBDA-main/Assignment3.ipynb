{
  "nbformat": 4,
  "nbformat_minor": 0,
  "metadata": {
    "colab": {
      "provenance": []
    },
    "kernelspec": {
      "name": "python3",
      "display_name": "Python 3"
    },
    "language_info": {
      "name": "python"
    }
  },
  "cells": [
    {
      "cell_type": "code",
      "execution_count": null,
      "metadata": {
        "colab": {
          "base_uri": "https://localhost:8080/"
        },
        "id": "zBNRerW2ePT8",
        "outputId": "7fc66976-87aa-4cdd-e95d-3f7ead3205f5"
      },
      "outputs": [
        {
          "output_type": "stream",
          "name": "stdout",
          "text": [
            "   Id  SepalLengthCm  SepalWidthCm  PetalLengthCm  PetalWidthCm      Species\n",
            "0   1            5.1           3.5            1.4           0.2  Iris-setosa\n",
            "1   2            4.9           3.0            1.4           0.2  Iris-setosa\n",
            "2   3            4.7           3.2            1.3           0.2  Iris-setosa\n",
            "3   4            4.6           3.1            1.5           0.2  Iris-setosa\n",
            "4   5            5.0           3.6            1.4           0.2  Iris-setosa\n"
          ]
        }
      ],
      "source": [
        "import pandas as pd\n",
        "iris_df = pd.read_csv(\"Iris.csv\")\n",
        "print(iris_df.head())\n"
      ]
    },
    {
      "cell_type": "code",
      "source": [
        "mean_value = iris_df[\"SepalLengthCm\"].mean()\n",
        "median_value = iris_df[\"SepalLengthCm\"].median()\n",
        "mode_value = iris_df[\"SepalLengthCm\"].mode()[0]\n",
        "print(f\"Mean of Sepal Length: {mean_value}\")\n",
        "print(f\"Median of Sepal Length: {median_value}\")\n",
        "print(f\"Mode of Sepal Length: {mode_value}\")\n"
      ],
      "metadata": {
        "colab": {
          "base_uri": "https://localhost:8080/"
        },
        "id": "uD-_p9xageIQ",
        "outputId": "29cc92cd-38ab-4129-8933-8d01c9b45343"
      },
      "execution_count": null,
      "outputs": [
        {
          "output_type": "stream",
          "name": "stdout",
          "text": [
            "Mean of Sepal Length: 5.843333333333334\n",
            "Median of Sepal Length: 5.8\n",
            "Mode of Sepal Length: 5.0\n"
          ]
        }
      ]
    },
    {
      "cell_type": "code",
      "source": [
        "std_dev = iris_df[\"SepalLengthCm\"].std()\n",
        "print(f\"Standard Deviation of Sepal Length: {std_dev}\")\n"
      ],
      "metadata": {
        "colab": {
          "base_uri": "https://localhost:8080/"
        },
        "id": "HULgfXfVikkk",
        "outputId": "79f01099-bbd7-4c49-97d9-9893a7c509b0"
      },
      "execution_count": null,
      "outputs": [
        {
          "output_type": "stream",
          "name": "stdout",
          "text": [
            "Standard Deviation of Sepal Length: 0.8280661279778629\n"
          ]
        }
      ]
    },
    {
      "cell_type": "code",
      "source": [
        "\n",
        "stats = iris_df.groupby(\"Species\").agg([\"mean\", \"median\", \"std\", \"min\", \"max\"])\n",
        "print(\"\\nDescriptive Statistics (Grouped by Species):\")\n",
        "print(stats)\n"
      ],
      "metadata": {
        "colab": {
          "base_uri": "https://localhost:8080/"
        },
        "id": "09AFWwc7iosc",
        "outputId": "6ddb4f28-7c5f-4da1-e2f8-f3218dbdbcd9"
      },
      "execution_count": null,
      "outputs": [
        {
          "output_type": "stream",
          "name": "stdout",
          "text": [
            "\n",
            "Descriptive Statistics (Grouped by Species):\n",
            "                    Id                            SepalLengthCm         \\\n",
            "                  mean median       std  min  max          mean median   \n",
            "Species                                                                  \n",
            "Iris-setosa       25.5   25.5  14.57738    1   50         5.006    5.0   \n",
            "Iris-versicolor   75.5   75.5  14.57738   51  100         5.936    5.9   \n",
            "Iris-virginica   125.5  125.5  14.57738  101  150         6.588    6.5   \n",
            "\n",
            "                                     ... PetalLengthCm                        \\\n",
            "                      std  min  max  ...          mean median       std  min   \n",
            "Species                              ...                                       \n",
            "Iris-setosa      0.352490  4.3  5.8  ...         1.464   1.50  0.173511  1.0   \n",
            "Iris-versicolor  0.516171  4.9  7.0  ...         4.260   4.35  0.469911  3.0   \n",
            "Iris-virginica   0.635880  4.9  7.9  ...         5.552   5.55  0.551895  4.5   \n",
            "\n",
            "                     PetalWidthCm                             \n",
            "                 max         mean median       std  min  max  \n",
            "Species                                                       \n",
            "Iris-setosa      1.9        0.244    0.2  0.107210  0.1  0.6  \n",
            "Iris-versicolor  5.1        1.326    1.3  0.197753  1.0  1.8  \n",
            "Iris-virginica   6.9        2.026    2.0  0.274650  1.4  2.5  \n",
            "\n",
            "[3 rows x 25 columns]\n"
          ]
        }
      ]
    },
    {
      "cell_type": "code",
      "source": [
        "print(iris_df.describe())\n"
      ],
      "metadata": {
        "colab": {
          "base_uri": "https://localhost:8080/"
        },
        "id": "XslT9EBujsXZ",
        "outputId": "f63f5210-c322-4ffc-ea05-7d16da008bae"
      },
      "execution_count": null,
      "outputs": [
        {
          "output_type": "stream",
          "name": "stdout",
          "text": [
            "               Id  SepalLengthCm  SepalWidthCm  PetalLengthCm  PetalWidthCm\n",
            "count  150.000000     150.000000    150.000000     150.000000    150.000000\n",
            "mean    75.500000       5.843333      3.054000       3.758667      1.198667\n",
            "std     43.445368       0.828066      0.433594       1.764420      0.763161\n",
            "min      1.000000       4.300000      2.000000       1.000000      0.100000\n",
            "25%     38.250000       5.100000      2.800000       1.600000      0.300000\n",
            "50%     75.500000       5.800000      3.000000       4.350000      1.300000\n",
            "75%    112.750000       6.400000      3.300000       5.100000      1.800000\n",
            "max    150.000000       7.900000      4.400000       6.900000      2.500000\n"
          ]
        }
      ]
    }
  ]
}